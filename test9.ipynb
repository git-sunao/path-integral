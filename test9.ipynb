{
 "cells": [
  {
   "cell_type": "markdown",
   "metadata": {},
   "source": [
    "[![Open In Colab](https://colab.research.google.com/assets/colab-badge.svg)](https://colab.research.google.com/github/git-sunao/path-integral/blob/main/test9.ipynb)"
   ]
  },
  {
   "cell_type": "code",
   "execution_count": 1,
   "metadata": {},
   "outputs": [],
   "source": [
    "# Run this if in Google Colab\n",
    "# !git clone https://github.com/git-sunao/path-integral.git\n",
    "# %cd path-integral\n",
    "# !pip install -r requirements.txt"
   ]
  },
  {
   "cell_type": "code",
   "execution_count": 2,
   "metadata": {},
   "outputs": [
    {
     "name": "stderr",
     "output_type": "stream",
     "text": [
      "/Users/sugiyamasunao/miniconda3/envs/pyplint/lib/python3.11/site-packages/tqdm/auto.py:21: TqdmWarning: IProgress not found. Please update jupyter and ipywidgets. See https://ipywidgets.readthedocs.io/en/stable/user_install.html\n",
      "  from .autonotebook import tqdm as notebook_tqdm\n"
     ]
    }
   ],
   "source": [
    "# general\n",
    "import os\n",
    "import numpy as np\n",
    "from tqdm import tqdm\n",
    "# jax\n",
    "import jax\n",
    "import jax.numpy as jnp\n",
    "import jax.scipy as jsp\n",
    "from jax import jit\n",
    "from jax import grad\n",
    "from jax import vmap\n",
    "from jax import jacobian\n",
    "from jax import jacfwd, jacrev\n",
    "from jax import vjp\n",
    "from jax.lax import scan\n",
    "# plotting\n",
    "import matplotlib.pyplot as plt\n",
    "import arviz\n",
    "from getdist import plots, MCSamples\n",
    "# numpyro\n",
    "import numpyro\n",
    "import numpyro.distributions as npyro_dist\n",
    "from numpyro.infer import MCMC, NUTS\n",
    "# # NF\n",
    "import torch\n",
    "import pyro\n",
    "import pyro.distributions as pyro_dist\n",
    "import pyro.distributions.transforms as T\n",
    "smoke_test = ('CI' in os.environ)\n",
    "%matplotlib inline\n",
    "cpu_device = jax.devices('cpu')[0]"
   ]
  },
  {
   "cell_type": "markdown",
   "metadata": {},
   "source": [
    "### Development notebook 9\n",
    "Adding the annealing parameter to the MAF model."
   ]
  },
  {
   "cell_type": "code",
   "execution_count": 39,
   "metadata": {},
   "outputs": [
    {
     "data": {
      "image/png": "[encoded data removed]",
      "text/plain": [
       "<Figure size 640x480 with 1 Axes>"
      ]
     },
     "metadata": {},
     "output_type": "display_data"
    },
    {
     "data": {
      "image/png": "[encoded data removed]",
      "text/plain": [
       "<Figure size 640x480 with 1 Axes>"
      ]
     },
     "metadata": {},
     "output_type": "display_data"
    }
   ],
   "source": [
    "n = 10000\n",
    "rng = np.random.default_rng(10)\n",
    "y = rng.uniform(-1, 1, n)\n",
    "# x = np.hstack([rng.normal(0,0.2, n-n//4), rng.normal(0.6,0.1, n//4)])\n",
    "x = rng.normal(0.0, 0.2,n)\n",
    "\n",
    "plt.hist(x, bins=40)\n",
    "plt.show()\n",
    "\n",
    "plt.hist(x+y, bins=40)\n",
    "plt.show()"
   ]
  },
  {
   "cell_type": "code",
   "execution_count": 40,
   "metadata": {},
   "outputs": [],
   "source": [
    "samples = np.vstack([y, x+y]).T"
   ]
  },
  {
   "cell_type": "code",
   "execution_count": 41,
   "metadata": {},
   "outputs": [
    {
     "data": {
      "text/plain": [
       "(10000, 2)"
      ]
     },
     "execution_count": 41,
     "metadata": {},
     "output_type": "execute_result"
    }
   ],
   "source": [
    "samples.shape"
   ]
  },
  {
   "cell_type": "code",
   "execution_count": 42,
   "metadata": {},
   "outputs": [],
   "source": [
    "import flax.linen as nn\n",
    "import optax\n",
    "from sklearn import datasets, preprocessing\n",
    "from tqdm import tqdm\n",
    "\n",
    "import sys\n",
    "sys.path.append(\"../\")\n",
    "\n",
    "from models.maf import MaskedAutoregressiveFlow\n",
    "from models.nsf import NeuralSplineFlow\n",
    "\n",
    "n_dim = ndim = 1  # Feature dim\n",
    "n_context = 1  # Context dim\n",
    "\n",
    "## Define flow model\n",
    "model = MaskedAutoregressiveFlow(n_dim=n_dim, n_context=n_context, hidden_dims=[128,128], n_transforms=12, activation=\"tanh\", use_random_permutations=False)\n",
    "\n",
    "## Initialize model and params\n",
    "key = jax.random.PRNGKey(42)\n",
    "x_test = jax.random.uniform(key=key, shape=(64, n_dim))\n",
    "context = jax.random.uniform(key=key, shape=(64, n_context))\n",
    "params = model.init(key, x_test, context)"
   ]
  },
  {
   "cell_type": "code",
   "execution_count": 43,
   "metadata": {},
   "outputs": [],
   "source": [
    "optimizer = optax.adam(learning_rate=3e-4)\n",
    "opt_state = optimizer.init(params)\n",
    "\n",
    "def loss_fn(params, x, context):\n",
    "  loss = -jnp.mean(model.apply(params, x, context))\n",
    "  return loss\n",
    "\n",
    "@jax.jit\n",
    "def update(params, opt_state, batch):\n",
    "  x, context = batch\n",
    "  grads = jax.grad(loss_fn)(params, x, context)\n",
    "  updates, new_opt_state = optimizer.update(grads, opt_state, params)\n",
    "  new_params = optax.apply_updates(params, updates)\n",
    "  return new_params, new_opt_state"
   ]
  },
  {
   "cell_type": "code",
   "execution_count": 44,
   "metadata": {},
   "outputs": [
    {
     "name": "stderr",
     "output_type": "stream",
     "text": [
      "100%|██████████| 100/100 [00:24<00:00,  4.01it/s]"
     ]
    },
    {
     "name": "stdout",
     "output_type": "stream",
     "text": [
      "CPU times: user 23.7 s, sys: 1.04 s, total: 24.8 s\n",
      "Wall time: 24.9 s\n"
     ]
    },
    {
     "name": "stderr",
     "output_type": "stream",
     "text": [
      "\n"
     ]
    }
   ],
   "source": [
    "%%time\n",
    "batch_size = 64\n",
    "# n_steps = 10_000\n",
    "# n_steps = 1_000\n",
    "n_steps = 100\n",
    "loss_history = []\n",
    "\n",
    "key = jax.random.PRNGKey(0)\n",
    "for step in tqdm(range(n_steps)):\n",
    "    # Generate random batch\n",
    "    # data_batch = samples[np.random.choice(samples.shape[0], batch_size)]\n",
    "    key, subkey = jax.random.split(key) # Split key\n",
    "    indices = jax.random.choice(subkey, n, shape=(batch_size,), replace=False)\n",
    "    data_batch = samples[indices]\n",
    "    x_batch = data_batch[:,:ndim]\n",
    "    y_batch = data_batch[:,ndim:]\n",
    "\n",
    "    # Update\n",
    "    batch = (x_batch, y_batch)\n",
    "    params, opt_state = update(params, opt_state, batch)\n",
    "\n",
    "    # Save loss\n",
    "    loss_history.append(loss_fn(params, x_batch, y_batch))"
   ]
  },
  {
   "cell_type": "code",
   "execution_count": 45,
   "metadata": {},
   "outputs": [
    {
     "data": {
      "image/png": "[encoded data removed]",
      "text/plain": [
       "<Figure size 1200x200 with 1 Axes>"
      ]
     },
     "metadata": {},
     "output_type": "display_data"
    }
   ],
   "source": [
    "# Plot loss\n",
    "plt.figure(figsize=(12, 2))\n",
    "plt.plot(loss_history)\n",
    "plt.yscale('log')\n",
    "plt.xlabel('Step')\n",
    "plt.ylabel('Loss')\n",
    "plt.title('Training Loss History')\n",
    "plt.show()"
   ]
  },
  {
   "cell_type": "code",
   "execution_count": 46,
   "metadata": {},
   "outputs": [],
   "source": [
    "def sample_from_flow(y, n_samples=10_000, key=jax.random.PRNGKey(42), w=1.0):\n",
    "    \"\"\"Helper function to sample from the flow model.\n",
    "    \"\"\"\n",
    "    if len(y.shape) == 1:\n",
    "        y = jnp.ones((n_samples, n_context))*y[None, :]\n",
    "    assert y.shape == (n_samples, n_context), f\"Context shape should be (n_samples, n_context), got {y.shape}\"\n",
    "\n",
    "    def sample_fn(model):\n",
    "        x_samples = model.sample(num_samples=n_samples, rng=key, \n",
    "                        context=y, beta=w)\n",
    "        return x_samples\n",
    "\n",
    "    x_samples = nn.apply(sample_fn, model)(params)\n",
    "    x_samples = jnp.array(x_samples)\n",
    "    return x_samples"
   ]
  },
  {
   "cell_type": "code",
   "execution_count": 47,
   "metadata": {},
   "outputs": [
    {
     "data": {
      "image/png": "[encoded data removed]",
      "text/plain": [
       "<Figure size 700x300 with 1 Axes>"
      ]
     },
     "metadata": {},
     "output_type": "display_data"
    }
   ],
   "source": [
    "plt.figure(figsize=(7, 3))\n",
    "for j, y in enumerate([-0.7, 0.0, 0.7]):\n",
    "    _ = jnp.array([y]+[0]*(ndim-1))\n",
    "    x = sample_from_flow(y=_, n_samples=10_000, key=jax.random.PRNGKey(42))\n",
    "    plt.hist(x[:,0], bins=50, density=True, alpha=0.5, label=\"Flow\", color='C{}'.format(j))\n",
    "    plt.axvline(y, color='C{}'.format(j))\n",
    "plt.show()"
   ]
  },
  {
   "cell_type": "code",
   "execution_count": 49,
   "metadata": {},
   "outputs": [
    {
     "data": {
      "image/png": "[encoded data removed]",
      "text/plain": [
       "<Figure size 700x300 with 1 Axes>"
      ]
     },
     "metadata": {},
     "output_type": "display_data"
    }
   ],
   "source": [
    "plt.figure(figsize=(7, 3))\n",
    "for j, y in enumerate([-0.7, -0.3, 0.0, 0.3, 0.7]):\n",
    "    _ = jnp.array([y]+[0]*(ndim-1))\n",
    "    x = sample_from_flow(y=_, n_samples=10_000, key=jax.random.PRNGKey(42))\n",
    "    plt.hist(x[:,0], bins=50, density=True, alpha=0.2, label=\"Flow\", color='C{}'.format(j))\n",
    "    plt.axvline(np.mean(x[:,0]), color='C{}'.format(j))\n",
    "    x = sample_from_flow(y=_, n_samples=10_000, key=jax.random.PRNGKey(42), w=3.0)\n",
    "    plt.hist(x[:,0], bins=50, density=True, alpha=0.6, label=\"Flow\", color='C{}'.format(j))\n",
    "    plt.axvline(np.mean(x[:,0]), color='C{}'.format(j))\n",
    "plt.show()"
   ]
  },
  {
   "cell_type": "code",
   "execution_count": null,
   "metadata": {},
   "outputs": [],
   "source": []
  }
 ],
 "metadata": {
  "kernelspec": {
   "display_name": "pyplint",
   "language": "python",
   "name": "python3"
  },
  "language_info": {
   "codemirror_mode": {
    "name": "ipython",
    "version": 3
   },
   "file_extension": ".py",
   "mimetype": "text/x-python",
   "name": "python",
   "nbconvert_exporter": "python",
   "pygments_lexer": "ipython3",
   "version": "3.11.9"
  }
 },
 "nbformat": 4,
 "nbformat_minor": 2
}
