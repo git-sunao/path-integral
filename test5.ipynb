{
 "cells": [
  {
   "cell_type": "code",
   "execution_count": 2,
   "metadata": {},
   "outputs": [
    {
     "name": "stderr",
     "output_type": "stream",
     "text": [
      "/Users/sugiyamasunao/miniconda3/envs/pyplint/lib/python3.11/site-packages/tqdm/auto.py:21: TqdmWarning: IProgress not found. Please update jupyter and ipywidgets. See https://ipywidgets.readthedocs.io/en/stable/user_install.html\n",
      "  from .autonotebook import tqdm as notebook_tqdm\n"
     ]
    }
   ],
   "source": [
    "# general\n",
    "import os\n",
    "import numpy as np\n",
    "# jax\n",
    "import jax\n",
    "import jax.numpy as jnp\n",
    "import jax.scipy as jsp\n",
    "from jax import jit\n",
    "from jax import grad\n",
    "from jax import vmap\n",
    "from jax import jacobian\n",
    "from jax import jacfwd, jacrev\n",
    "from jax import vjp\n",
    "from jax.lax import scan\n",
    "# plotting\n",
    "import matplotlib.pyplot as plt\n",
    "import arviz\n",
    "# numpyro\n",
    "import numpyro\n",
    "import numpyro.distributions as npyro_dist\n",
    "from numpyro.infer import MCMC, NUTS\n",
    "# # NF\n",
    "import torch\n",
    "import pyro\n",
    "import pyro.distributions as pyro_dist\n",
    "import pyro.distributions.transforms as T\n",
    "smoke_test = ('CI' in os.environ)"
   ]
  },
  {
   "cell_type": "markdown",
   "metadata": {},
   "source": [
    "## Development notebook 5\n",
    "$\\providecommand{\\d}{\\mathrm{d}}$\n",
    "$\\providecommand{\\D}{\\mathcal{D}}$\n",
    "\n",
    "Now we consider the problem of the normalization. Previously, we developed the sampling method to estimate the partition function. The idea was to descretize the time to have finite dimensional integral.\n",
    "\n",
    "$$\n",
    "\\tau' \\rightarrow \\tau' = i\\epsilon\n",
    "$$\n",
    "where $\\epsilon=1/n_\\tau$. With this discretization, we have\n",
    "\n",
    "$$\n",
    "Z = \\int \\D x e^{iS} \\rightarrow Z = \\int\\d x e^{iS}\n",
    "$$\n",
    "\n",
    "and \n",
    "\n",
    "$$\n",
    "S = \\sum_{i=1}^{n_\\tau} \\epsilon L_i\n",
    "$$\n",
    "\n",
    "where $L_i$ is the discretized Lagrangian.\n",
    "\n",
    "Using the Lefschetz thimble we can eliminate the unwanted oscilationary feature of integrand\n",
    "\n",
    "$$\n",
    "Z = \\int \\d x \\left|\\frac{\\partial z}{\\partial x}\\right| e^{i S[z(x)]}\n",
    "$$\n",
    "\n",
    "where $z$ is the analytic continuation of $x$ and can be obtained by solving flow equation, so the $z$ is the determinic function of $x$, i.e. $z=z(x)$.\n",
    "\n",
    "We now split the integrand to amlitude and phase\n",
    "\n",
    "$$\n",
    "Z = \\int \\d x |Je^{h}| e^{iH+i\\varphi_J}\n",
    "$$\n",
    "\n",
    "where $iS = h+iH$, $J=\\partial z/\\partial x = |J| e^{i\\varphi_J}$.\n",
    "\n",
    "Now the amplitude is positive, and can be interpreted as probability, and no sign problem happens thanks to the Lefshcetz thimble approach.\n",
    "If we can have a nice proposal distibution $P$, we can evalute the partition function $Z$ by importance sampling with the distribution function.\n",
    "\n",
    "$$\n",
    "\\hat{Z} = \\langle |Je^{h}| e^{iH+i\\varphi_J} \\rangle_P = \\frac{1}{M}\\sum_{j=1}^{M} \\frac{|Je^{h}| e^{iH+i\\varphi_J} (x_j)}{P(x_j)}\n",
    "$$\n",
    "\n",
    "where $M$ is the number of samples. The question is how to get the proposal distribution function $P$.\n",
    "\n",
    "### Normal distribution\n",
    "\n",
    "Of course the ideal distribution $P$ would not be the normal distribution, but we can make it a try. \n",
    "Since the integrand will drop off at large $x$ due to the Lefschetz thimble after flow, we expect the normal distribution is more or less a good proposal.\n",
    "\n",
    "Procedure is following\n",
    "1. Sample from $|Je^{h}|$ with HMC (or we can also do uniform sampling)\n",
    "2. From the samples, we compute the mean $\\mu$ and covariance matrix $C$.\n",
    "3. With the obtained mean and covariance matrix, we define the proposal distribution by multivariate normal distribution, i.e. $P=\\mathcal{N}(\\mu, C)$.\n",
    "4. Using the proposal distribution, we perform importance sampling to get $\\hat{Z}$.\n",
    "\n",
    "\n",
    "### Example problem\n",
    "Here we consider an example problem of $n$-dimensional Fresnel integral\n",
    "\n",
    "$$\n",
    "Z = \\int \\d^n \\bm{x} e^{i |\\bm{x}|^2} = \\left[\\int\\d x e^{ix^2}\\right]^n = \\left[(1+i)\\sqrt{\\pi/2}\\right]^n\n",
    "$$"
   ]
  },
  {
   "cell_type": "code",
   "execution_count": 3,
   "metadata": {},
   "outputs": [],
   "source": [
    "def action_iphi(z):\n",
    "    z2 = jnp.sum(z**2)\n",
    "    iphi = 1j*z2\n",
    "    # iphi = 1j*(z2/2 + 2/(1+z2))\n",
    "    return iphi\n",
    "\n",
    "def action_h(z):\n",
    "    s = action_iphi(z)\n",
    "    h = jnp.real(s) + 0.0j\n",
    "    return h\n",
    "\n",
    "def action_Seff(z):\n",
    "    seff = -action_iphi(z)\n",
    "    return seff\n",
    "\n",
    "def integrand(z):\n",
    "    return jnp.exp(action_iphi(z))\n",
    "\n",
    "# # corresponding gradients\n",
    "grad_iphi = grad(action_iphi, holomorphic=True)\n",
    "grad_h    = grad(action_h, holomorphic=True)\n",
    "grad_Seff = grad(action_Seff, holomorphic=True)"
   ]
  },
  {
   "cell_type": "code",
   "execution_count": 4,
   "metadata": {},
   "outputs": [],
   "source": [
    "def flow_step(z, ds, thre=0.1):\n",
    "    # dSdz = grad_Seff(z)\n",
    "    # z = z - ds*dSdz\n",
    "    dhdz = grad_h(z)\n",
    "    z = z + ds*dhdz\n",
    "    return z\n",
    "\n",
    "def flow_n_steps(z, ds, n_step):\n",
    "    fnc = lambda z, null: (flow_step(z, ds), null)\n",
    "    z, null = scan(fnc, z, length=n_step)\n",
    "    return z\n",
    "\n",
    "def flow_n_steps_with_jac(z, ds, n_step):\n",
    "    z = flow_n_steps(z, ds, n_step)\n",
    "    j = jacrev(flow_n_steps, argnums=0, holomorphic=True)(z, ds, n_step)\n",
    "    j = jnp.linalg.det(j)\n",
    "    return z, j\n",
    "\n",
    "vflow = vmap(flow_n_steps_with_jac, (0,None,None), 0)"
   ]
  },
  {
   "cell_type": "code",
   "execution_count": 5,
   "metadata": {},
   "outputs": [],
   "source": [
    "def model():\n",
    "    # Define a prior for `x`\n",
    "    x = []\n",
    "    for i in range(ndim):\n",
    "        xi = numpyro.sample('x{}'.format(i+1), npyro_dist.Uniform(-3, 3))\n",
    "        x.append(xi)\n",
    "    x = jnp.array(x)\n",
    "\n",
    "    # flow\n",
    "    z = jnp.astype(x, complex)\n",
    "    # n_step in flow should be optimized depending on the dimension...\n",
    "    z_pl, j = flow_n_steps_with_jac(z, 1e-3, 400)\n",
    "    i = integrand(z_pl)\n",
    "\n",
    "    amplt = jnp.abs(i*j)\n",
    "    phase = i*j/amplt\n",
    "\n",
    "    # likelihood\n",
    "    numpyro.factor('loglike', jnp.log(amplt))\n",
    "\n",
    "    # save derived parameters\n",
    "    numpyro.deterministic('phase'    , phase)\n",
    "    numpyro.deterministic('amplitude', amplt)"
   ]
  },
  {
   "cell_type": "code",
   "execution_count": 6,
   "metadata": {},
   "outputs": [],
   "source": [
    "def plot_rcc(cov, s=2):\n",
    "    std = jnp.diag(cov)**0.5\n",
    "    rcc = cov/jnp.outer(std, std)\n",
    "    ndim = std.size\n",
    "\n",
    "    plt.figure(figsize=(s,s))\n",
    "    plt.title('{} dim'.format(ndim))\n",
    "    plt.imshow(rcc, cmap='bwr', vmin=-1, vmax=1)\n",
    "    plt.show()"
   ]
  },
  {
   "cell_type": "code",
   "execution_count": 7,
   "metadata": {},
   "outputs": [
    {
     "name": "stderr",
     "output_type": "stream",
     "text": [
      "sample: 100%|██████████| 10500/10500 [00:50<00:00, 208.10it/s, 7 steps of size 4.60e-01. acc. prob=0.90] \n"
     ]
    },
    {
     "name": "stdout",
     "output_type": "stream",
     "text": [
      "CPU times: user 55.6 s, sys: 1.85 s, total: 57.4 s\n",
      "Wall time: 59.9 s\n"
     ]
    }
   ],
   "source": [
    "%%time\n",
    "ndim = 8*4 + 1\n",
    "# ndim = 5\n",
    "# Set up and run the HMC sampler\n",
    "nuts_kernel = NUTS(model)\n",
    "mcmc = MCMC(nuts_kernel, num_warmup=500, num_samples=10000)\n",
    "mcmc.run(jax.random.PRNGKey(0))\n",
    "\n",
    "# Get samples\n",
    "samples = mcmc.get_samples()\n",
    "# convert to jnp\n",
    "samples = jnp.transpose(jnp.array([samples['x{}'.format(i+1)] for i in range(ndim)]))"
   ]
  },
  {
   "cell_type": "code",
   "execution_count": 8,
   "metadata": {},
   "outputs": [
    {
     "data": {
      "image/png": "[encoded data removed]",
      "text/plain": [
       "<Figure size 200x200 with 1 Axes>"
      ]
     },
     "metadata": {},
     "output_type": "display_data"
    }
   ],
   "source": [
    "mu = jnp.mean(samples, axis=0)\n",
    "cov= jnp.cov(samples.T)\n",
    "plot_rcc(cov)"
   ]
  },
  {
   "cell_type": "code",
   "execution_count": 9,
   "metadata": {},
   "outputs": [
    {
     "name": "stdout",
     "output_type": "stream",
     "text": [
      "Z_pl: (0.7030492+0.70746696j)\n",
      "Z_ana: (0.707107+0.7071073j)\n",
      "err: 0.0040737297\n",
      "CPU times: user 3.97 s, sys: 233 ms, total: 4.2 s\n",
      "Wall time: 3.12 s\n"
     ]
    }
   ],
   "source": [
    "%%time\n",
    "\n",
    "# rescale covariance to avoid numerical instability\n",
    "mu = jnp.mean(samples, axis=0)\n",
    "cov= jnp.cov(samples.T)\n",
    "\n",
    "# sample from the proposal distribution\n",
    "key = jax.random.PRNGKey(0)\n",
    "x = jax.random.multivariate_normal(key, mu, cov, 1000).astype(complex)\n",
    "logp = jsp.stats.multivariate_normal.logpdf(x, mu, cov)\n",
    "\n",
    "# evaluate the integrand and integrate\n",
    "z_pl, j = vflow(x, 1e-3, 400)\n",
    "i = vmap(integrand)(z_pl)\n",
    "Z_pl = jnp.mean(i*j*jnp.exp(-logp))      / jnp.pi**(ndim/2)\n",
    "Z_ana= ((1+1j)*jnp.sqrt(jnp.pi/2))**ndim / jnp.pi**(ndim/2)\n",
    "err  = jnp.abs(Z_pl-Z_ana)/jnp.abs(Z_ana)\n",
    "\n",
    "print('Z_pl:', Z_pl)\n",
    "print('Z_ana:', Z_ana)\n",
    "print('err:', err)\n",
    "# <- Perfect!!"
   ]
  },
  {
   "cell_type": "markdown",
   "metadata": {},
   "source": [
    "### Additional test: what if the proposal dist. is uniform?"
   ]
  },
  {
   "cell_type": "code",
   "execution_count": 10,
   "metadata": {},
   "outputs": [
    {
     "name": "stdout",
     "output_type": "stream",
     "text": [
      "Z_pl: (9.052048e-10-2.957961e-10j)\n",
      "Z_ana: (0.707107+0.7071073j)\n",
      "err: 1.0\n"
     ]
    }
   ],
   "source": [
    "wprior = 3\n",
    "key = jax.random.PRNGKey(0)\n",
    "x = jax.random.uniform(key, (2000, ndim), minval=-wprior, maxval=wprior)\n",
    "logp = -ndim*jnp.log((2*wprior))\n",
    "\n",
    "z_pl, j = vflow(x.astype(complex), 1e-3, 400)\n",
    "i = vmap(integrand)(z_pl)\n",
    "Z_pl = jnp.mean(i*j*jnp.exp(-logp))      / jnp.pi**(ndim/2)\n",
    "Z_ana= ((1+1j)*jnp.sqrt(jnp.pi/2))**ndim / jnp.pi**(ndim/2)\n",
    "err  = jnp.abs(Z_pl-Z_ana)/jnp.abs(Z_ana)\n",
    "\n",
    "print('Z_pl:', Z_pl)\n",
    "print('Z_ana:', Z_ana)\n",
    "print('err:', err)\n",
    "# <- soooooooo bad"
   ]
  },
  {
   "cell_type": "code",
   "execution_count": null,
   "metadata": {},
   "outputs": [],
   "source": []
  }
 ],
 "metadata": {
  "kernelspec": {
   "display_name": "pyplint",
   "language": "python",
   "name": "python3"
  },
  "language_info": {
   "codemirror_mode": {
    "name": "ipython",
    "version": 3
   },
   "file_extension": ".py",
   "mimetype": "text/x-python",
   "name": "python",
   "nbconvert_exporter": "python",
   "pygments_lexer": "ipython3",
   "version": "3.11.9"
  }
 },
 "nbformat": 4,
 "nbformat_minor": 2
}
