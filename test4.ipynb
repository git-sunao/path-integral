{
 "cells": [
  {
   "cell_type": "markdown",
   "metadata": {},
   "source": [
    "[![Open In Colab](https://colab.research.google.com/assets/colab-badge.svg)](https://colab.research.google.com/github/git-sunao/path-integral/blob/main/test4.ipynb)"
   ]
  },
  {
   "cell_type": "code",
   "execution_count": 1,
   "metadata": {},
   "outputs": [
    {
     "name": "stderr",
     "output_type": "stream",
     "text": [
      "/Users/sugiyamasunao/miniconda3/envs/pyplint/lib/python3.11/site-packages/tqdm/auto.py:21: TqdmWarning: IProgress not found. Please update jupyter and ipywidgets. See https://ipywidgets.readthedocs.io/en/stable/user_install.html\n",
      "  from .autonotebook import tqdm as notebook_tqdm\n"
     ]
    }
   ],
   "source": [
    "# jax\n",
    "import jax\n",
    "import jax.numpy as jnp\n",
    "from jax import jit\n",
    "from jax import grad\n",
    "from jax import vmap\n",
    "from jax import jacobian\n",
    "from jax import jacfwd, jacrev\n",
    "from jax import vjp\n",
    "from jax.lax import scan\n",
    "# plotting\n",
    "import matplotlib.pyplot as plt\n",
    "# numpyro\n",
    "import numpyro\n",
    "import numpyro.distributions as dist\n",
    "from numpyro.infer import MCMC, NUTS"
   ]
  },
  {
   "cell_type": "code",
   "execution_count": 2,
   "metadata": {},
   "outputs": [],
   "source": [
    "# Run this if in Google Colab\n",
    "# !git clone https://github.com/git-sunao/path-integral.git\n",
    "# %cd path-integral\n",
    "# !pip install -r requirements.txt"
   ]
  },
  {
   "cell_type": "markdown",
   "metadata": {},
   "source": [
    "## Development notebook 4\n",
    "\n",
    "$\\providecommand{\\d}{\\mathrm{d}}$\n",
    "\n",
    "### Example problem 4\n",
    "Now we extend the development to more higher dimension $n$.\n",
    "\n",
    "$$\n",
    "Z = \\int_{-\\infty}^\\infty \\d x e^{i\\sum_i x_i^2} = [(1+i)\\sqrt{\\pi/2}]^n = \\pi^{n/2}e^{in\\pi/2}\n",
    "$$\n",
    "\n",
    "We use the same idea as in the previous notebook: deforming the integration domain.\n",
    "\n",
    "$$\n",
    "Z = \\int_{-\\infty}^\\infty \\d x \\frac{\\partial z}{\\partial x} e^{i\\phi}\n",
    "$$\n",
    "\n",
    "This is too hard to perform for $n\\geq3$ if we reply on the grid approach on $x_i$. Instead we use the Monte-Carlo approach.\n",
    "\n",
    "We define $P(x) = \\mathcal{N}|Je^{h}|$, where $\\mathcal{N}$ is some constant normalization so that $P(x)$ can be a probability distribution. More concretely, $1=\\mathcal{N}\\int\\d x |Je^{h}|$.\n",
    "Then the partition function is \n",
    "\n",
    "$$\n",
    "Z = \\frac{1}{\\mathcal{N}}\\int\\d x \\mathcal{N} |Je^{h}| e^{iH+i\\varphi_J}\n",
    "$$\n",
    "\n",
    "where $\\varphi_J$ is the phase of the jacobian, $J=|J|e^{i\\varphi_J}$."
   ]
  },
  {
   "cell_type": "code",
   "execution_count": 3,
   "metadata": {},
   "outputs": [],
   "source": [
    "def action_iphi(z):\n",
    "    z2 = jnp.sum(z**2)\n",
    "    iphi = 1j*z2\n",
    "    # iphi = 1j*(z2/2 + 2/(1+z2))\n",
    "    return iphi\n",
    "\n",
    "def action_h(z):\n",
    "    s = action_iphi(z)\n",
    "    h = jnp.real(s) + 0.0j\n",
    "    return h\n",
    "\n",
    "def action_Seff(z):\n",
    "    seff = -action_iphi(z)\n",
    "    return seff\n",
    "\n",
    "def integrand(z):\n",
    "    return jnp.exp(action_iphi(z))\n",
    "\n",
    "# # corresponding gradients\n",
    "grad_iphi = grad(action_iphi, holomorphic=True)\n",
    "grad_h    = grad(action_h, holomorphic=True)\n",
    "grad_Seff = grad(action_Seff, holomorphic=True)"
   ]
  },
  {
   "cell_type": "code",
   "execution_count": 4,
   "metadata": {},
   "outputs": [],
   "source": [
    "def flow_step(z, ds, thre=0.1):\n",
    "    dSdz = grad_Seff(z)\n",
    "    z = z + ds*jnp.conj(dSdz)\n",
    "    return z\n",
    "\n",
    "def flow_n_steps(x, ds, n_step):\n",
    "    z = x.astype(complex)\n",
    "    fnc = lambda z, null: (flow_step(z, ds), null)\n",
    "    z, null = scan(fnc, z, length=n_step)\n",
    "    return z\n",
    "\n",
    "def flow_n_steps_with_jac(x, ds, n_step):\n",
    "    z = flow_n_steps(x, ds, n_step)\n",
    "    # Jacobian (we do this because the func is complex)\n",
    "    def split(x, ds, n_step):\n",
    "        f = flow_n_steps(x, ds, n_step)\n",
    "        return jnp.real(f), jnp.imag(f)\n",
    "    j = jacobian(split, argnums=0)(x, ds, n_step)\n",
    "    j = j[0] + j[1]*1j\n",
    "    j = jnp.linalg.det(j)\n",
    "\n",
    "    return z, j\n",
    "\n",
    "vflow = vmap(flow_n_steps_with_jac, (0,None,None), 0)"
   ]
  },
  {
   "cell_type": "code",
   "execution_count": 14,
   "metadata": {},
   "outputs": [],
   "source": [
    "def model():\n",
    "    # Define a prior for `x`\n",
    "    x = []\n",
    "    for i in range(ndim):\n",
    "        xi = numpyro.sample('x{}'.format(i+1), dist.Uniform(-3, 3))\n",
    "        x.append(xi)\n",
    "    x = jnp.array(x)\n",
    "\n",
    "    # flow\n",
    "    # n_step in flow should be optimized depending on the dimension...\n",
    "    z_pl, j = flow_n_steps_with_jac(x, 1e-3, 400)\n",
    "    i = integrand(z_pl)\n",
    "\n",
    "    amplt = jnp.abs(i*j)\n",
    "    phase = i*j/amplt\n",
    "\n",
    "    # likelihood\n",
    "    numpyro.factor('loglike', jnp.log(amplt))\n",
    "\n",
    "    # save derived parameters\n",
    "    numpyro.deterministic('phase'    , phase)\n",
    "    numpyro.deterministic('amplitude', amplt)\n"
   ]
  },
  {
   "cell_type": "code",
   "execution_count": 15,
   "metadata": {},
   "outputs": [
    {
     "name": "stderr",
     "output_type": "stream",
     "text": [
      "sample: 100%|██████████| 20500/20500 [01:50<00:00, 185.75it/s, 7 steps of size 5.08e-01. acc. prob=0.90]\n"
     ]
    },
    {
     "name": "stdout",
     "output_type": "stream",
     "text": [
      "CPU times: user 1min 45s, sys: 3.8 s, total: 1min 49s\n",
      "Wall time: 1min 58s\n"
     ]
    }
   ],
   "source": [
    "%%time\n",
    "ndim = 8*3 + 1\n",
    "# Set up and run the HMC sampler\n",
    "nuts_kernel = NUTS(model)\n",
    "mcmc = MCMC(nuts_kernel, num_warmup=500, num_samples=20000)\n",
    "mcmc.run(jax.random.PRNGKey(0))\n",
    "\n",
    "# Get samples\n",
    "samples = mcmc.get_samples()"
   ]
  },
  {
   "cell_type": "code",
   "execution_count": 16,
   "metadata": {},
   "outputs": [
    {
     "data": {
      "image/png": "[encoded data removed]",
      "text/plain": [
       "<Figure size 640x480 with 1 Axes>"
      ]
     },
     "metadata": {},
     "output_type": "display_data"
    }
   ],
   "source": [
    "args = jnp.argsort(samples['x1'])\n",
    "x = samples['x1'][args]\n",
    "a = samples['amplitude'][args]\n",
    "p = samples['phase'][args]\n",
    "\n",
    "fig, ax = plt.subplots(1,1)\n",
    "ax.plot(x, jnp.real(a*p), label='real', marker=',', alpha=0.1)\n",
    "ax.plot(x, jnp.imag(a*p), label='imag', marker=',', alpha=0.1)\n",
    "ax.plot(x, jnp.abs(a*p), label='abs', marker=',', alpha=0.1)\n",
    "ax.axhline(0, color='black', linewidth=0.5)\n",
    "h, b = jnp.histogram(samples['x1'], bins=50); h*= a.max()/h.max()\n",
    "plt.bar(0.5*(b[:-1]+b[1:]), h, width=b[1] - b[0], align='center', alpha=0.5, color='gray')\n",
    "plt.show()"
   ]
  },
  {
   "cell_type": "code",
   "execution_count": 18,
   "metadata": {},
   "outputs": [
    {
     "name": "stdout",
     "output_type": "stream",
     "text": [
      "PL : (0.26172515749931335+0.25940001010894775j)\n",
      "Ana: (1158399.875+1158400.25j)\n",
      "--phase--\n",
      "PL : 1.0089635848999023 \n",
      "Ana: 0.9999997019767761\n"
     ]
    }
   ],
   "source": [
    "Z_pl = jnp.mean(samples['phase'])\n",
    "Z_ana= ((1+1j)*jnp.sqrt(jnp.pi/2))**ndim\n",
    "print(f\"PL : {Z_pl}\")\n",
    "print(f\"Ana: {Z_ana}\")\n",
    "print('--phase--')\n",
    "print(f\"PL : {Z_pl.real/Z_pl.imag} \")\n",
    "print(f\"Ana: {Z_ana.real/Z_ana.imag}\")\n",
    "# Okay, the phase is fine,"
   ]
  },
  {
   "cell_type": "code",
   "execution_count": null,
   "metadata": {},
   "outputs": [],
   "source": []
  }
 ],
 "metadata": {
  "kernelspec": {
   "display_name": "pyplint",
   "language": "python",
   "name": "python3"
  },
  "language_info": {
   "codemirror_mode": {
    "name": "ipython",
    "version": 3
   },
   "file_extension": ".py",
   "mimetype": "text/x-python",
   "name": "python",
   "nbconvert_exporter": "python",
   "pygments_lexer": "ipython3",
   "version": "3.11.9"
  }
 },
 "nbformat": 4,
 "nbformat_minor": 2
}
